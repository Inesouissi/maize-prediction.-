{
  "metadata": {
    "kernelspec": {
      "language": "python",
      "display_name": "Python 3",
      "name": "python3"
    },
    "language_info": {
      "name": "python",
      "version": "3.7.12",
      "mimetype": "text/x-python",
      "codemirror_mode": {
        "name": "ipython",
        "version": 3
      },
      "pygments_lexer": "ipython3",
      "nbconvert_exporter": "python",
      "file_extension": ".py"
    },
    "colab": {
      "name": "submission.ipynb",
      "provenance": []
    }
  },
  "nbformat_minor": 0,
  "nbformat": 4,
  "cells": [
    {
      "cell_type": "code",
      "source": [
        "\n",
        "import numpy as np\n",
        "import pandas as pd\n",
        "import matplotlib.pyplot as plt\n",
        "import tensorflow as tf\n",
        "from tensorflow.keras import layers\n",
        "from tensorflow.keras import Sequential"
      ],
      "metadata": {
        "execution": {
          "iopub.status.busy": "2022-05-01T23:40:34.269848Z",
          "iopub.execute_input": "2022-05-01T23:40:34.270159Z",
          "iopub.status.idle": "2022-05-01T23:40:34.274967Z",
          "shell.execute_reply.started": "2022-05-01T23:40:34.270120Z",
          "shell.execute_reply": "2022-05-01T23:40:34.274079Z"
        },
        "trusted": true,
        "id": "XE-8U8oX0HRZ"
      },
      "execution_count": null,
      "outputs": []
    },
    {
      "cell_type": "code",
      "source": [
        "train = pd.read_csv('../input/dataset/dataset/Train.csv')\n",
        "test = pd.read_csv('../input/dataset/dataset/Test.csv')"
      ],
      "metadata": {
        "execution": {
          "iopub.status.busy": "2022-05-01T23:40:34.275887Z",
          "iopub.execute_input": "2022-05-01T23:40:34.276118Z",
          "iopub.status.idle": "2022-05-01T23:40:34.292341Z",
          "shell.execute_reply.started": "2022-05-01T23:40:34.276067Z",
          "shell.execute_reply": "2022-05-01T23:40:34.291582Z"
        },
        "trusted": true,
        "id": "cQrzekrc0HRc"
      },
      "execution_count": null,
      "outputs": []
    },
    {
      "cell_type": "code",
      "source": [
        "train.head()"
      ],
      "metadata": {
        "execution": {
          "iopub.status.busy": "2022-05-01T23:40:34.293509Z",
          "iopub.execute_input": "2022-05-01T23:40:34.293723Z",
          "iopub.status.idle": "2022-05-01T23:40:34.301963Z",
          "shell.execute_reply.started": "2022-05-01T23:40:34.293697Z",
          "shell.execute_reply": "2022-05-01T23:40:34.301228Z"
        },
        "trusted": true,
        "id": "7G0cW0X80HRf"
      },
      "execution_count": null,
      "outputs": []
    },
    {
      "cell_type": "code",
      "source": [
        "train.head()"
      ],
      "metadata": {
        "execution": {
          "iopub.status.busy": "2022-05-01T23:40:34.302885Z",
          "iopub.execute_input": "2022-05-01T23:40:34.303079Z",
          "iopub.status.idle": "2022-05-01T23:40:34.316177Z",
          "shell.execute_reply.started": "2022-05-01T23:40:34.303054Z",
          "shell.execute_reply": "2022-05-01T23:40:34.315347Z"
        },
        "trusted": true,
        "id": "K7-m6Gf50HRi"
      },
      "execution_count": null,
      "outputs": []
    },
    {
      "cell_type": "code",
      "source": [
        "\n",
        "\n",
        "from PIL import Image\n",
        "img = Image.open('../input/dataset/dataset/train images/Images/id_02amazy34fgh2.jpg')\n",
        "nparr  = np.asarray(img)\n",
        "\n"
      ],
      "metadata": {
        "execution": {
          "iopub.status.busy": "2022-05-01T23:40:34.317001Z",
          "iopub.execute_input": "2022-05-01T23:40:34.317268Z",
          "iopub.status.idle": "2022-05-01T23:40:34.341756Z",
          "shell.execute_reply.started": "2022-05-01T23:40:34.317231Z",
          "shell.execute_reply": "2022-05-01T23:40:34.341032Z"
        },
        "trusted": true,
        "id": "WUk2Yn3M0HRk"
      },
      "execution_count": null,
      "outputs": []
    },
    {
      "cell_type": "code",
      "source": [
        "nparr.shape"
      ],
      "metadata": {
        "execution": {
          "iopub.status.busy": "2022-05-01T23:40:34.450623Z",
          "iopub.execute_input": "2022-05-01T23:40:34.451502Z",
          "iopub.status.idle": "2022-05-01T23:40:34.456748Z",
          "shell.execute_reply.started": "2022-05-01T23:40:34.451453Z",
          "shell.execute_reply": "2022-05-01T23:40:34.456162Z"
        },
        "trusted": true,
        "id": "0IQQ-IxD0HRl"
      },
      "execution_count": null,
      "outputs": []
    },
    {
      "cell_type": "code",
      "source": [
        "\n",
        "\n",
        "train.iloc[2]['Image_id']\n",
        "\n"
      ],
      "metadata": {
        "execution": {
          "iopub.status.busy": "2022-05-01T23:40:34.727132Z",
          "iopub.execute_input": "2022-05-01T23:40:34.727701Z",
          "iopub.status.idle": "2022-05-01T23:40:34.733260Z",
          "shell.execute_reply.started": "2022-05-01T23:40:34.727666Z",
          "shell.execute_reply": "2022-05-01T23:40:34.732214Z"
        },
        "trusted": true,
        "id": "qe4vokjF0HRn"
      },
      "execution_count": null,
      "outputs": []
    },
    {
      "cell_type": "code",
      "source": [
        "from sklearn.model_selection import train_test_split\n",
        "\n",
        "train,validate = train_test_split(train,test_size=0.2)\n",
        "\n",
        "new_img_size = (224,224)\n",
        "\n"
      ],
      "metadata": {
        "execution": {
          "iopub.status.busy": "2022-05-01T23:40:34.882604Z",
          "iopub.execute_input": "2022-05-01T23:40:34.883316Z",
          "iopub.status.idle": "2022-05-01T23:40:34.887955Z",
          "shell.execute_reply.started": "2022-05-01T23:40:34.883281Z",
          "shell.execute_reply": "2022-05-01T23:40:34.887455Z"
        },
        "trusted": true,
        "id": "Tc8uXf060HRr"
      },
      "execution_count": null,
      "outputs": []
    },
    {
      "cell_type": "code",
      "source": [
        "validate.Label.value_counts()"
      ],
      "metadata": {
        "execution": {
          "iopub.status.busy": "2022-05-01T23:40:35.031896Z",
          "iopub.execute_input": "2022-05-01T23:40:35.032691Z",
          "iopub.status.idle": "2022-05-01T23:40:35.039220Z",
          "shell.execute_reply.started": "2022-05-01T23:40:35.032653Z",
          "shell.execute_reply": "2022-05-01T23:40:35.038373Z"
        },
        "trusted": true,
        "id": "KqTOWT-40HRs"
      },
      "execution_count": null,
      "outputs": []
    },
    {
      "cell_type": "code",
      "source": [
        "images_train=[]\n",
        "img = Image.open('../input/dataset/dataset/train images/Images/'+str(train.iloc[0]['Image_id']))\n",
        "img=img.resize(new_img_size)\n",
        "images_train = np.array([np.asarray(img)])\n",
        "\n",
        "for i in range(1,len(train)):\n",
        "    img = Image.open(f'../input/dataset/dataset/train images/Images/'+str(train.iloc[i]['Image_id']))\n",
        "    img = img.resize(new_img_size)\n",
        "    images_train = np.concatenate((images_train,np.array([np.asarray(img)])),axis=0)"
      ],
      "metadata": {
        "execution": {
          "iopub.status.busy": "2022-05-01T23:40:35.260506Z",
          "iopub.execute_input": "2022-05-01T23:40:35.260765Z",
          "iopub.status.idle": "2022-05-01T23:41:59.919481Z",
          "shell.execute_reply.started": "2022-05-01T23:40:35.260736Z",
          "shell.execute_reply": "2022-05-01T23:41:59.918292Z"
        },
        "trusted": true,
        "id": "J-8g42Ja0HRv"
      },
      "execution_count": null,
      "outputs": []
    },
    {
      "cell_type": "code",
      "source": [
        "images_train[0]"
      ],
      "metadata": {
        "execution": {
          "iopub.status.busy": "2022-05-01T23:41:59.921248Z",
          "iopub.execute_input": "2022-05-01T23:41:59.921527Z",
          "iopub.status.idle": "2022-05-01T23:41:59.930170Z",
          "shell.execute_reply.started": "2022-05-01T23:41:59.921488Z",
          "shell.execute_reply": "2022-05-01T23:41:59.929164Z"
        },
        "trusted": true,
        "id": "TG8YEXIh0HRw"
      },
      "execution_count": null,
      "outputs": []
    },
    {
      "cell_type": "code",
      "source": [
        "img = Image.open('../input/dataset/dataset/train images/Images/'+str(validate.iloc[0][\"Image_id\"]))\n",
        "img=img.resize(new_img_size)\n",
        "images_validate = np.array([np.asarray(img)])\n",
        "for i in range(1,validate.shape[0]):\n",
        "    img = Image.open('../input/dataset/dataset/train images/Images/'+str(validate.iloc[i][\"Image_id\"]))\n",
        "    img = img.resize(new_img_size)\n",
        "    images_validate = np.concatenate((images_validate,np.array([np.asarray(img)])),axis=0)"
      ],
      "metadata": {
        "execution": {
          "iopub.status.busy": "2022-05-01T23:41:59.931979Z",
          "iopub.execute_input": "2022-05-01T23:41:59.932297Z",
          "iopub.status.idle": "2022-05-01T23:42:11.310463Z",
          "shell.execute_reply.started": "2022-05-01T23:41:59.932258Z",
          "shell.execute_reply": "2022-05-01T23:42:11.309710Z"
        },
        "trusted": true,
        "id": "ya6o4Hfe0HRw"
      },
      "execution_count": null,
      "outputs": []
    },
    {
      "cell_type": "code",
      "source": [
        "\n",
        "\n",
        "img = Image.open(f'../input/dataset/dataset/train images/Images/'+str(test.iloc[0][\"Image_id\"]))\n",
        "img=img.resize(new_img_size)\n",
        "images_test = np.array([np.asarray(img)])\n",
        "for i in range(1,test.shape[0]):\n",
        "    img = Image.open('../input/dataset/dataset/train images/Images/'+str(test.iloc[i][\"Image_id\"]))\n",
        "    img = img.resize(new_img_size)\n",
        "    images_test = np.concatenate((images_test,np.array([np.asarray(img)])),axis=0)\n",
        "\n"
      ],
      "metadata": {
        "execution": {
          "iopub.status.busy": "2022-05-01T23:42:11.312023Z",
          "iopub.execute_input": "2022-05-01T23:42:11.312655Z",
          "iopub.status.idle": "2022-05-01T23:43:14.726253Z",
          "shell.execute_reply.started": "2022-05-01T23:42:11.312623Z",
          "shell.execute_reply": "2022-05-01T23:43:14.725392Z"
        },
        "trusted": true,
        "id": "mMIL_9i20HRx"
      },
      "execution_count": null,
      "outputs": []
    },
    {
      "cell_type": "code",
      "source": [
        "print(\"Training set is of shape : \",images_train.shape)\n",
        "print(\"Validation set is of shape : \",images_validate.shape)\n",
        "print(\"Test set is of shape : \",images_test.shape)\n"
      ],
      "metadata": {
        "execution": {
          "iopub.status.busy": "2022-05-01T23:43:14.727511Z",
          "iopub.execute_input": "2022-05-01T23:43:14.727737Z",
          "iopub.status.idle": "2022-05-01T23:43:14.732910Z",
          "shell.execute_reply.started": "2022-05-01T23:43:14.727709Z",
          "shell.execute_reply": "2022-05-01T23:43:14.732268Z"
        },
        "trusted": true,
        "id": "KTVFYbTt0HRx"
      },
      "execution_count": null,
      "outputs": []
    },
    {
      "cell_type": "markdown",
      "source": [
        "# **Model**"
      ],
      "metadata": {
        "id": "0oVcsSAi0HRy"
      }
    },
    {
      "cell_type": "code",
      "source": [
        "model = Sequential([\n",
        "    layers.Rescaling(1./255.,input_shape=(224,224,3)),\n",
        "    layers.Conv2D(8,(3,3),activation='relu'),\n",
        "    layers.MaxPooling2D(2,2),\n",
        "    layers.Dropout(0.2),\n",
        "    layers.Conv2D(16,(3,3),activation='relu'),\n",
        "    layers.MaxPooling2D(2,2),\n",
        "    layers.Dropout(0.2),\n",
        "    layers.Conv2D(32,(3,3),activation='relu'),\n",
        "    layers.MaxPooling2D(2,2),\n",
        "    layers.Dropout(0.2),\n",
        "    layers.Flatten(),\n",
        "    layers.Dense(256,activation='relu'),\n",
        "    layers.Dense(64,activation='relu'),\n",
        "    layers.Dense(1,activation='sigmoid'),   \n",
        "])\n",
        "model.build()\n"
      ],
      "metadata": {
        "execution": {
          "iopub.status.busy": "2022-05-01T23:43:14.734137Z",
          "iopub.execute_input": "2022-05-01T23:43:14.734345Z",
          "iopub.status.idle": "2022-05-01T23:43:14.839592Z",
          "shell.execute_reply.started": "2022-05-01T23:43:14.734320Z",
          "shell.execute_reply": "2022-05-01T23:43:14.838792Z"
        },
        "trusted": true,
        "id": "eGU_q6uq0HR0"
      },
      "execution_count": null,
      "outputs": []
    },
    {
      "cell_type": "code",
      "source": [
        "\n",
        "\n",
        "model.compile(\n",
        "    optimizer='adam',\n",
        "    loss = tf.losses.BinaryCrossentropy(),\n",
        "    metrics=['binary_accuracy']\n",
        ")\n",
        "\n"
      ],
      "metadata": {
        "execution": {
          "iopub.status.busy": "2022-05-01T23:43:14.840790Z",
          "iopub.execute_input": "2022-05-01T23:43:14.840983Z",
          "iopub.status.idle": "2022-05-01T23:43:14.848771Z",
          "shell.execute_reply.started": "2022-05-01T23:43:14.840960Z",
          "shell.execute_reply": "2022-05-01T23:43:14.848143Z"
        },
        "trusted": true,
        "id": "ohkpXbk-0HR1"
      },
      "execution_count": null,
      "outputs": []
    },
    {
      "cell_type": "code",
      "source": [
        "batch_size = 32\n",
        "epochs = 15\n",
        "\n",
        "model.fit(\n",
        "    images_train,\n",
        "    train['Label'],\n",
        "    batch_size=batch_size,\n",
        "    epochs=epochs,\n",
        "    validation_data=(images_validate,validate['Label'])\n",
        ")\n"
      ],
      "metadata": {
        "execution": {
          "iopub.status.busy": "2022-05-01T23:43:14.850046Z",
          "iopub.execute_input": "2022-05-01T23:43:14.850377Z",
          "iopub.status.idle": "2022-05-01T23:44:51.484396Z",
          "shell.execute_reply.started": "2022-05-01T23:43:14.850347Z",
          "shell.execute_reply": "2022-05-01T23:44:51.483611Z"
        },
        "trusted": true,
        "id": "O19oT39c0HR2"
      },
      "execution_count": null,
      "outputs": []
    },
    {
      "cell_type": "code",
      "source": [
        "\n",
        "\n",
        "data_augmentaion = Sequential([\n",
        "    layers.RandomRotation(factor=(-0.2,0.2),seed = 123),\n",
        "    layers.RandomZoom(0.1),\n",
        "])\n",
        "\n"
      ],
      "metadata": {
        "execution": {
          "iopub.status.busy": "2022-05-01T23:44:51.485520Z",
          "iopub.execute_input": "2022-05-01T23:44:51.486059Z",
          "iopub.status.idle": "2022-05-01T23:44:51.496623Z",
          "shell.execute_reply.started": "2022-05-01T23:44:51.486025Z",
          "shell.execute_reply": "2022-05-01T23:44:51.495734Z"
        },
        "trusted": true,
        "id": "UcCRGcup0HR2"
      },
      "execution_count": null,
      "outputs": []
    },
    {
      "cell_type": "code",
      "source": [
        "model = Sequential([\n",
        "    layers.Rescaling(1./255.,input_shape=(224,224,3)),\n",
        "    data_augmentaion,\n",
        "    layers.Conv2D(8,(3,3),activation='relu'),\n",
        "    layers.MaxPooling2D(2,2),\n",
        "    layers.Dropout(0.2),\n",
        "    layers.Conv2D(16,(3,3),activation='relu'),\n",
        "    layers.MaxPooling2D(2,2),\n",
        "    layers.Dropout(0.2),\n",
        "    layers.Conv2D(32,(3,3),activation='relu'),\n",
        "    layers.MaxPooling2D(2,2),\n",
        "    layers.Dropout(0.4),\n",
        "    layers.Flatten(),\n",
        "    layers.Dense(256,activation='relu'),\n",
        "    layers.Dense(64,activation='relu'),\n",
        "    layers.Dense(1,activation='sigmoid'),   \n",
        "])\n",
        "model.build()"
      ],
      "metadata": {
        "execution": {
          "iopub.status.busy": "2022-05-01T23:44:51.500706Z",
          "iopub.execute_input": "2022-05-01T23:44:51.500954Z",
          "iopub.status.idle": "2022-05-01T23:44:51.789520Z",
          "shell.execute_reply.started": "2022-05-01T23:44:51.500925Z",
          "shell.execute_reply": "2022-05-01T23:44:51.788677Z"
        },
        "trusted": true,
        "id": "os-Swt440HR2"
      },
      "execution_count": null,
      "outputs": []
    },
    {
      "cell_type": "code",
      "source": [
        "\n",
        "\n",
        "model.compile(\n",
        "    optimizer='adam',\n",
        "    loss = tf.losses.BinaryCrossentropy(),\n",
        "    metrics=['binary_accuracy']\n",
        ")\n",
        "\n",
        "batch_size = 32\n",
        "epochs = 100\n",
        "\n",
        "history = model.fit(\n",
        "    images_train,\n",
        "    train['Label'],\n",
        "    batch_size=batch_size,\n",
        "    epochs=epochs,\n",
        "    validation_data=(images_validate,validate['Label'])\n",
        ")\n",
        "\n"
      ],
      "metadata": {
        "execution": {
          "iopub.status.busy": "2022-05-01T23:44:51.798460Z",
          "iopub.execute_input": "2022-05-01T23:44:51.798691Z",
          "iopub.status.idle": "2022-05-02T00:02:36.243509Z",
          "shell.execute_reply.started": "2022-05-01T23:44:51.798656Z",
          "shell.execute_reply": "2022-05-02T00:02:36.242652Z"
        },
        "trusted": true,
        "id": "pEzWOhtE0HR3"
      },
      "execution_count": null,
      "outputs": []
    },
    {
      "cell_type": "code",
      "source": [
        "train_acc = history.history['binary_accuracy']\n",
        "validate_acc = history.history['val_binary_accuracy']\n",
        "epoch_ = range(1,epochs+1)\n",
        "\n",
        "plt.plot(epoch_,train_acc,'r',label='Training')\n",
        "plt.plot(epoch_,validate_acc,'b',label='Validation')\n",
        "plt.legend()\n",
        "plt.show()\n"
      ],
      "metadata": {
        "execution": {
          "iopub.status.busy": "2022-05-02T00:02:36.244753Z",
          "iopub.execute_input": "2022-05-02T00:02:36.244975Z",
          "iopub.status.idle": "2022-05-02T00:02:36.434888Z",
          "shell.execute_reply.started": "2022-05-02T00:02:36.244947Z",
          "shell.execute_reply": "2022-05-02T00:02:36.434326Z"
        },
        "trusted": true,
        "id": "ah0eqTg_0HR4"
      },
      "execution_count": null,
      "outputs": []
    },
    {
      "cell_type": "markdown",
      "source": [
        "# Prediction time!"
      ],
      "metadata": {
        "id": "2F33LNs00HR4"
      }
    },
    {
      "cell_type": "code",
      "source": [
        "\n",
        "\n",
        "predictions = model.predict(images_test)\n",
        "\n"
      ],
      "metadata": {
        "execution": {
          "iopub.status.busy": "2022-05-02T00:04:19.024355Z",
          "iopub.execute_input": "2022-05-02T00:04:19.024648Z",
          "iopub.status.idle": "2022-05-02T00:04:20.223908Z",
          "shell.execute_reply.started": "2022-05-02T00:04:19.024614Z",
          "shell.execute_reply": "2022-05-02T00:04:20.223272Z"
        },
        "trusted": true,
        "id": "qhpsjKJ-0HR4"
      },
      "execution_count": null,
      "outputs": []
    },
    {
      "cell_type": "code",
      "source": [
        "\n",
        "\n",
        "predictions.shape\n",
        "\n"
      ],
      "metadata": {
        "execution": {
          "iopub.status.busy": "2022-05-02T00:04:21.337521Z",
          "iopub.execute_input": "2022-05-02T00:04:21.337799Z",
          "iopub.status.idle": "2022-05-02T00:04:21.343034Z",
          "shell.execute_reply.started": "2022-05-02T00:04:21.337767Z",
          "shell.execute_reply": "2022-05-02T00:04:21.342248Z"
        },
        "trusted": true,
        "id": "rWTiVWb40HR4"
      },
      "execution_count": null,
      "outputs": []
    },
    {
      "cell_type": "markdown",
      "source": [
        "# **Submission**"
      ],
      "metadata": {
        "id": "LZbhYPc-0HR5"
      }
    },
    {
      "cell_type": "code",
      "source": [
        "\n",
        "\n",
        "predictions = pd.DataFrame(np.round(predictions,2))\n",
        "submission = pd.concat([test,predictions],axis=1)\n",
        "\n"
      ],
      "metadata": {
        "execution": {
          "iopub.status.busy": "2022-05-02T00:04:30.120679Z",
          "iopub.execute_input": "2022-05-02T00:04:30.120960Z",
          "iopub.status.idle": "2022-05-02T00:04:30.126970Z",
          "shell.execute_reply.started": "2022-05-02T00:04:30.120927Z",
          "shell.execute_reply": "2022-05-02T00:04:30.126351Z"
        },
        "trusted": true,
        "id": "JvsePcsm0HR5"
      },
      "execution_count": null,
      "outputs": []
    },
    {
      "cell_type": "code",
      "source": [
        "submission.rename(columns = {0:'Target', 'Image_id':'Image_ID'}, inplace = True)"
      ],
      "metadata": {
        "execution": {
          "iopub.status.busy": "2022-05-02T00:09:28.278126Z",
          "iopub.execute_input": "2022-05-02T00:09:28.278560Z",
          "iopub.status.idle": "2022-05-02T00:09:28.283730Z",
          "shell.execute_reply.started": "2022-05-02T00:09:28.278516Z",
          "shell.execute_reply": "2022-05-02T00:09:28.283141Z"
        },
        "trusted": true,
        "id": "DM5_mVcI0HR6"
      },
      "execution_count": null,
      "outputs": []
    },
    {
      "cell_type": "code",
      "source": [
        "submission.tail(5)"
      ],
      "metadata": {
        "execution": {
          "iopub.status.busy": "2022-05-02T00:09:49.867192Z",
          "iopub.execute_input": "2022-05-02T00:09:49.867444Z",
          "iopub.status.idle": "2022-05-02T00:09:49.875984Z",
          "shell.execute_reply.started": "2022-05-02T00:09:49.867418Z",
          "shell.execute_reply": "2022-05-02T00:09:49.875432Z"
        },
        "trusted": true,
        "id": "E_bNjiRf0HR6"
      },
      "execution_count": null,
      "outputs": []
    },
    {
      "cell_type": "code",
      "source": [
        "label_encode = {0:\"healthy\",1:\"multiple_diseases\",2:\"rust\",3:\"scab\"}"
      ],
      "metadata": {
        "id": "6AlX5AwC0HR6"
      },
      "execution_count": null,
      "outputs": []
    },
    {
      "cell_type": "code",
      "source": [
        "\n",
        "\n",
        "submission.to_csv(\"submission.csv\",index=False)\n",
        "\n"
      ],
      "metadata": {
        "execution": {
          "iopub.status.busy": "2022-05-02T00:11:11.643372Z",
          "iopub.execute_input": "2022-05-02T00:11:11.643641Z",
          "iopub.status.idle": "2022-05-02T00:11:11.653595Z",
          "shell.execute_reply.started": "2022-05-02T00:11:11.643614Z",
          "shell.execute_reply": "2022-05-02T00:11:11.652945Z"
        },
        "trusted": true,
        "id": "pGg4SyNA0HR7"
      },
      "execution_count": null,
      "outputs": []
    }
  ]
}